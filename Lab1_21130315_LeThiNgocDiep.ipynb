{
  "nbformat": 4,
  "nbformat_minor": 0,
  "metadata": {
    "colab": {
      "provenance": [],
      "authorship_tag": "ABX9TyOPehMb6Aosxmy1ZFKP7Gdh",
      "include_colab_link": true
    },
    "kernelspec": {
      "name": "python3",
      "display_name": "Python 3"
    },
    "language_info": {
      "name": "python"
    }
  },
  "cells": [
    {
      "cell_type": "markdown",
      "metadata": {
        "id": "view-in-github",
        "colab_type": "text"
      },
      "source": [
        "<a href=\"https://colab.research.google.com/github/DiepThiNgocLe/Lab_ML/blob/main/Lab1_21130315_LeThiNgocDiep.ipynb\" target=\"_parent\"><img src=\"https://colab.research.google.com/assets/colab-badge.svg\" alt=\"Open In Colab\"/></a>"
      ]
    },
    {
      "cell_type": "code",
      "execution_count": 8,
      "metadata": {
        "colab": {
          "base_uri": "https://localhost:8080/"
        },
        "id": "VnEFIgdF7frO",
        "outputId": "5bf3bfdd-b97e-4ca4-e920-9446b9a139fe"
      },
      "outputs": [
        {
          "output_type": "stream",
          "name": "stdout",
          "text": [
            "Enter the number of elements: 6\n",
            "Enter number 1 :4\n",
            "Enter number 2 :5\n",
            "Enter number 3 :4\n",
            "Enter number 4 :1\n",
            "Enter number 5 :3\n",
            "Enter number 6 :4\n",
            "Max element in L: 5\n",
            "Min element in L: 1\n",
            "Sum of elements in L: 21\n",
            "Sorted list L: [1, 3, 4, 4, 4, 5]\n",
            "Number of positive numbers in L: 6\n",
            "Number of negative numbers in L: 0\n"
          ]
        }
      ],
      "source": [
        "def task1():\n",
        "    n = int(input(\"Enter the number of elements: \"))\n",
        "\n",
        "    L = []\n",
        "    for i in range(n):\n",
        "        x = int(input(f\"Enter number {i+1} :\"))\n",
        "        L.append(x)\n",
        "\n",
        "    max_element  = max(L)\n",
        "    min_element = min(L)\n",
        "\n",
        "    sum_of_elements = sum(L)\n",
        "\n",
        "    L.sort()\n",
        "\n",
        "    positive_count = sum(1 for num in L if num > 0)\n",
        "    negative_count = sum(1 for num in L if num < 0)\n",
        "\n",
        "    print(\"Max element in L:\", max_element)\n",
        "    print(\"Min element in L:\", min_element)\n",
        "    print(\"Sum of elements in L:\", sum_of_elements)\n",
        "    print(\"Sorted list L:\", L)\n",
        "    print(\"Number of positive numbers in L:\", positive_count)\n",
        "    print(\"Number of negative numbers in L:\", negative_count)\n",
        "\n",
        "if __name__ == \"__main__\":\n",
        "    task1()"
      ]
    },
    {
      "cell_type": "code",
      "source": [
        "def task2(n):\n",
        "    result = 0\n",
        "    product = 1\n",
        "    for i in range(1, n + 1):\n",
        "      product *=i\n",
        "      result += product\n",
        "    return result\n",
        "n = int(input(\"Enter a positive integer n: \"))\n",
        "if n > 0:\n",
        "    print(\"S(n) for n =\", n, \"is:\", task2(n))\n",
        "else:\n",
        "    print(\"Please enter a positive integer for n.\")\n"
      ],
      "metadata": {
        "colab": {
          "base_uri": "https://localhost:8080/"
        },
        "id": "zK9qtlaJGcQK",
        "outputId": "3ef7a79d-2d9a-49b4-c7ab-30621e0d0bcd"
      },
      "execution_count": 10,
      "outputs": [
        {
          "output_type": "stream",
          "name": "stdout",
          "text": [
            "Enter a positive integer n: 5\n",
            "S(n) for n = 5 is: 153\n"
          ]
        }
      ]
    },
    {
      "cell_type": "code",
      "source": [
        "from datetime import datetime\n",
        "\n",
        "class Account:\n",
        "    def __init__(self, name, country, num_posts):\n",
        "        self.name = name\n",
        "        self.country = country\n",
        "        self.num_posts = num_posts\n",
        "        self.friends = []\n",
        "        self.posts = []\n",
        "\n",
        "    def add_friend(self, friend):\n",
        "        self.friends.append(friend)\n",
        "\n",
        "    def add_post(self, post):\n",
        "        self.posts.append(post)\n",
        "\n",
        "    def get_total_likes(self):\n",
        "        return sum(post.likes for post in self.posts)\n",
        "\n",
        "class Post:\n",
        "    def __init__(self, content, likes):\n",
        "        self.content = content\n",
        "        self.likes = likes\n",
        "\n",
        "class AccountManager:\n",
        "    def __init__(self):\n",
        "        self.accounts = []\n",
        "\n",
        "    def add_account(self, account):\n",
        "        self.accounts.append(account)\n",
        "\n",
        "    def getMaxLikePostByFriend(self):\n",
        "        max_likes = 0\n",
        "        max_like_account = None\n",
        "\n",
        "        for account in self.accounts:\n",
        "            for friend in account.friends:\n",
        "                for post in friend.posts:\n",
        "                    if post.likes > max_likes:\n",
        "                        max_likes = post.likes\n",
        "                        max_like_account = account\n",
        "\n",
        "        return max_like_account\n",
        "\n",
        "    def groupAccountsByPostLike(self):\n",
        "        groups = {\"true\": [], \"false\": []}\n",
        "\n",
        "        for account in self.accounts:\n",
        "            if account.num_posts >= 10:\n",
        "                groups[\"true\"].append(account)\n",
        "            else:\n",
        "                groups[\"false\"].append(account)\n",
        "\n",
        "        return groups\n",
        "\n",
        "    def filterAccounts(self, country):\n",
        "        filtered_accounts = [account for account in self.accounts if account.country == country]\n",
        "        filtered_accounts.sort(key=lambda x: (x.num_posts, x.name), reverse=True)\n",
        "        return filtered_accounts\n",
        "\n",
        "class VerifiedAccount(Account):\n",
        "    def __init__(self, name, country, num_posts, verified_date):\n",
        "        super().__init__(name, country, num_posts)\n",
        "        self.verified_date = verified_date\n",
        "\n",
        "class NormalAccount(Account):\n",
        "    pass\n",
        "\n",
        "# Test the implementation\n",
        "if __name__ == \"__main__\":\n",
        "    # Create some accounts\n",
        "    account1 = VerifiedAccount(\"Mai\", \"TP.HCM\", 15, datetime(2023, 5, 10))\n",
        "    account2 = NormalAccount(\"Lien\", \"Dong Nai\", 5)\n",
        "    account3 = NormalAccount(\"Sau\", \"Can Tho\", 20)\n",
        "\n",
        "    # Add friends and posts\n",
        "    account1.add_friend(account2)\n",
        "    account2.add_post(Post(\"Hello world!\", 10))\n",
        "    account3.add_post(Post(\"Python is awesome!\", 15))\n",
        "\n",
        "    # Create an account manager\n",
        "    manager = AccountManager()\n",
        "    manager.add_account(account1)\n",
        "    manager.add_account(account2)\n",
        "    manager.add_account(account3)\n",
        "\n",
        "    # Test the methods\n",
        "    print(\"Account with the post with the highest likes from friends:\", manager.getMaxLikePostByFriend().name)\n",
        "    print(\"Accounts grouped by post likes:\", manager.groupAccountsByPostLike())\n",
        "    print(\"Filtered accounts from USA:\", manager.filterAccounts(\"Can Tho\"))\n"
      ],
      "metadata": {
        "colab": {
          "base_uri": "https://localhost:8080/"
        },
        "id": "XxqOdyFnIvw7",
        "outputId": "53a7d59b-bcea-44da-e3f2-22d824c40100"
      },
      "execution_count": 14,
      "outputs": [
        {
          "output_type": "stream",
          "name": "stdout",
          "text": [
            "Account with the post with the highest likes from friends: Mai\n",
            "Accounts grouped by post likes: {'true': [<__main__.VerifiedAccount object at 0x7c44ce5c8520>, <__main__.NormalAccount object at 0x7c44ce5c8b20>], 'false': [<__main__.NormalAccount object at 0x7c44ce5cb880>]}\n",
            "Filtered accounts from USA: [<__main__.NormalAccount object at 0x7c44ce5c8b20>]\n"
          ]
        }
      ]
    }
  ]
}